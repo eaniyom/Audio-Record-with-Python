{
 "cells": [
  {
   "cell_type": "markdown",
   "id": "dd43e50a",
   "metadata": {},
   "source": [
    "## Voice Recorded with Python "
   ]
  },
  {
   "cell_type": "code",
   "execution_count": 7,
   "id": "38311940",
   "metadata": {},
   "outputs": [
    {
     "name": "stdout",
     "output_type": "stream",
     "text": [
      "Enter the Recording Time in seonds: 30\n",
      "Recording.....\n",
      "\n",
      "Recording is done please check your folder to listen to the recording\n"
     ]
    }
   ],
   "source": [
    "import sounddevice\n",
    "from scipy.io.wavfile import write\n",
    "#from pydub import AudioSegment\n",
    "\n",
    "# sample_rate\n",
    "fs = 44100\n",
    "\n",
    "# Asking to enter the recording time\n",
    "second = int(input(\"Enter the Recording Time in seonds: \"))\n",
    "print(\"Recording.....\\n\")\n",
    "\n",
    "# Record the voice\n",
    "record_voice = sounddevice .rec(int(second * fs), samplerate=fs, channels=2)\n",
    "sounddevice.wait()\n",
    "write(\"MyRecording2.wav\", fs, record_voice)\n",
    "\n",
    "# Convert the audio data to an AudioSegment\n",
    "#audio = AudioSegment.from_wav('MyRecording.wav')\n",
    "\n",
    "# Save the recording as an MP3 file\n",
    "#audio.export('MyRecording.mp3', format='mp3')\n",
    "print(\"Recording is done please check your folder to listen to the recording\")"
   ]
  },
  {
   "cell_type": "raw",
   "id": "fd2ed96d",
   "metadata": {},
   "source": []
  }
 ],
 "metadata": {
  "kernelspec": {
   "display_name": "Python 3 (ipykernel)",
   "language": "python",
   "name": "python3"
  },
  "language_info": {
   "codemirror_mode": {
    "name": "ipython",
    "version": 3
   },
   "file_extension": ".py",
   "mimetype": "text/x-python",
   "name": "python",
   "nbconvert_exporter": "python",
   "pygments_lexer": "ipython3",
   "version": "3.10.9"
  }
 },
 "nbformat": 4,
 "nbformat_minor": 5
}
